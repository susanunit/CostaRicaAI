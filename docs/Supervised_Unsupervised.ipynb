{
 "cells": [
  {
   "cell_type": "markdown",
   "metadata": {},
   "source": [
    "# Austin Traffic"
   ]
  },
  {
   "cell_type": "markdown",
   "metadata": {},
   "source": [
    "## Imports"
   ]
  },
  {
   "cell_type": "code",
   "execution_count": 1,
   "metadata": {},
   "outputs": [],
   "source": [
    "# ! pip install scikit-learn --user"
   ]
  },
  {
   "cell_type": "code",
   "execution_count": 2,
   "metadata": {},
   "outputs": [],
   "source": [
    "import pandas as pd\n",
    "import matplotlib.pyplot as plt\n",
    "import matplotlib.patches as mpatches\n",
    "from sklearn.model_selection import train_test_split\n",
    "from sklearn.feature_extraction.text import CountVectorizer\n",
    "from sklearn.linear_model import LogisticRegression\n",
    "from sklearn.metrics import classification_report\n",
    "%matplotlib inline"
   ]
  },
  {
   "cell_type": "markdown",
   "metadata": {},
   "source": [
    "## Basic Loading"
   ]
  },
  {
   "cell_type": "code",
   "execution_count": 3,
   "metadata": {},
   "outputs": [
    {
     "data": {
      "text/html": [
       "<div>\n",
       "<style scoped>\n",
       "    .dataframe tbody tr th:only-of-type {\n",
       "        vertical-align: middle;\n",
       "    }\n",
       "\n",
       "    .dataframe tbody tr th {\n",
       "        vertical-align: top;\n",
       "    }\n",
       "\n",
       "    .dataframe thead th {\n",
       "        text-align: right;\n",
       "    }\n",
       "</style>\n",
       "<table border=\"1\" class=\"dataframe\">\n",
       "  <thead>\n",
       "    <tr style=\"text-align: right;\">\n",
       "      <th></th>\n",
       "      <th>Traffic Report ID</th>\n",
       "      <th>Published Date</th>\n",
       "      <th>Issue Reported</th>\n",
       "      <th>Location</th>\n",
       "      <th>Latitude</th>\n",
       "      <th>Longitude</th>\n",
       "      <th>Address</th>\n",
       "      <th>Status</th>\n",
       "      <th>Status Date</th>\n",
       "      <th>Agency</th>\n",
       "    </tr>\n",
       "  </thead>\n",
       "  <tbody>\n",
       "    <tr>\n",
       "      <th>0</th>\n",
       "      <td>F350D780EA8AAA48030B4DB64F790C14DBCD757F_17096...</td>\n",
       "      <td>03/06/2024 01:29:39 AM +0000</td>\n",
       "      <td>Stalled Vehicle</td>\n",
       "      <td>POINT (-97.705874 30.32358)</td>\n",
       "      <td>30.323580</td>\n",
       "      <td>-97.705874</td>\n",
       "      <td>E 290 Svrd Wb To Ih 35 Nb Ramp / N Ih 35 Svrd ...</td>\n",
       "      <td>ARCHIVED</td>\n",
       "      <td>03/06/2024 02:10:12 AM +0000</td>\n",
       "      <td>AUSTIN PD</td>\n",
       "    </tr>\n",
       "    <tr>\n",
       "      <th>1</th>\n",
       "      <td>042338D46C2028808F298DEC735DC7ADF0C162F6_17096...</td>\n",
       "      <td>03/06/2024 01:26:42 AM +0000</td>\n",
       "      <td>Crash Urgent</td>\n",
       "      <td>POINT (-97.698567 30.342505)</td>\n",
       "      <td>30.342505</td>\n",
       "      <td>-97.698567</td>\n",
       "      <td>8024 N Ih 35 Svrd Sb</td>\n",
       "      <td>ARCHIVED</td>\n",
       "      <td>03/06/2024 02:45:13 AM +0000</td>\n",
       "      <td>AUSTIN PD</td>\n",
       "    </tr>\n",
       "    <tr>\n",
       "      <th>2</th>\n",
       "      <td>BE73E73B642ECB6C6EDB4A52875A8017F69DFE5E_17080...</td>\n",
       "      <td>02/15/2024 10:17:48 PM +0000</td>\n",
       "      <td>LOOSE LIVESTOCK</td>\n",
       "      <td>POINT (-97.717911 30.0578)</td>\n",
       "      <td>30.057800</td>\n",
       "      <td>-97.717911</td>\n",
       "      <td>12400 Glass Rd</td>\n",
       "      <td>ARCHIVED</td>\n",
       "      <td>02/15/2024 11:33:08 PM +0000</td>\n",
       "      <td>TRAVIS COUNTY SHERIF</td>\n",
       "    </tr>\n",
       "    <tr>\n",
       "      <th>3</th>\n",
       "      <td>A5909010064EF753C5F090A07CFCDDFBF25E38F3_15865...</td>\n",
       "      <td>04/10/2020 09:31:11 PM +0000</td>\n",
       "      <td>TRFC HAZD/ DEBRIS</td>\n",
       "      <td>POINT (-97.866676 30.140878)</td>\n",
       "      <td>30.140878</td>\n",
       "      <td>-97.866676</td>\n",
       "      <td>S Sh 45 W Eb &amp; S Sh 45 W Eb To Bliss Spillar Ramp</td>\n",
       "      <td>ARCHIVED</td>\n",
       "      <td>04/10/2020 09:55:03 PM +0000</td>\n",
       "      <td>NaN</td>\n",
       "    </tr>\n",
       "    <tr>\n",
       "      <th>4</th>\n",
       "      <td>4A6C39763AD109EB75CE31C1EBFD53A0E883EE68_16543...</td>\n",
       "      <td>06/04/2022 05:51:05 PM +0000</td>\n",
       "      <td>Traffic Hazard</td>\n",
       "      <td>POINT (-97.825791 30.455444)</td>\n",
       "      <td>30.455444</td>\n",
       "      <td>-97.825791</td>\n",
       "      <td>Anderson Mill Rd &amp; N Fm 620 Rd</td>\n",
       "      <td>ARCHIVED</td>\n",
       "      <td>06/04/2022 06:20:03 PM +0000</td>\n",
       "      <td>NaN</td>\n",
       "    </tr>\n",
       "  </tbody>\n",
       "</table>\n",
       "</div>"
      ],
      "text/plain": [
       "                                   Traffic Report ID  \\\n",
       "0  F350D780EA8AAA48030B4DB64F790C14DBCD757F_17096...   \n",
       "1  042338D46C2028808F298DEC735DC7ADF0C162F6_17096...   \n",
       "2  BE73E73B642ECB6C6EDB4A52875A8017F69DFE5E_17080...   \n",
       "3  A5909010064EF753C5F090A07CFCDDFBF25E38F3_15865...   \n",
       "4  4A6C39763AD109EB75CE31C1EBFD53A0E883EE68_16543...   \n",
       "\n",
       "                 Published Date     Issue Reported  \\\n",
       "0  03/06/2024 01:29:39 AM +0000    Stalled Vehicle   \n",
       "1  03/06/2024 01:26:42 AM +0000       Crash Urgent   \n",
       "2  02/15/2024 10:17:48 PM +0000    LOOSE LIVESTOCK   \n",
       "3  04/10/2020 09:31:11 PM +0000  TRFC HAZD/ DEBRIS   \n",
       "4  06/04/2022 05:51:05 PM +0000     Traffic Hazard   \n",
       "\n",
       "                       Location   Latitude  Longitude  \\\n",
       "0   POINT (-97.705874 30.32358)  30.323580 -97.705874   \n",
       "1  POINT (-97.698567 30.342505)  30.342505 -97.698567   \n",
       "2    POINT (-97.717911 30.0578)  30.057800 -97.717911   \n",
       "3  POINT (-97.866676 30.140878)  30.140878 -97.866676   \n",
       "4  POINT (-97.825791 30.455444)  30.455444 -97.825791   \n",
       "\n",
       "                                             Address    Status  \\\n",
       "0  E 290 Svrd Wb To Ih 35 Nb Ramp / N Ih 35 Svrd ...  ARCHIVED   \n",
       "1                               8024 N Ih 35 Svrd Sb  ARCHIVED   \n",
       "2                                     12400 Glass Rd  ARCHIVED   \n",
       "3  S Sh 45 W Eb & S Sh 45 W Eb To Bliss Spillar Ramp  ARCHIVED   \n",
       "4                     Anderson Mill Rd & N Fm 620 Rd  ARCHIVED   \n",
       "\n",
       "                    Status Date                Agency  \n",
       "0  03/06/2024 02:10:12 AM +0000  AUSTIN PD             \n",
       "1  03/06/2024 02:45:13 AM +0000  AUSTIN PD             \n",
       "2  02/15/2024 11:33:08 PM +0000  TRAVIS COUNTY SHERIF  \n",
       "3  04/10/2020 09:55:03 PM +0000                   NaN  \n",
       "4  06/04/2022 06:20:03 PM +0000                   NaN  "
      ]
     },
     "execution_count": 3,
     "metadata": {},
     "output_type": "execute_result"
    }
   ],
   "source": [
    "df = pd.read_csv(\"./data/Real-Time_Traffic_Incident_Reports_20250818.csv\")\n",
    "df.head()"
   ]
  },
  {
   "cell_type": "code",
   "execution_count": 4,
   "metadata": {},
   "outputs": [
    {
     "name": "stdout",
     "output_type": "stream",
     "text": [
      "<class 'pandas.core.frame.DataFrame'>\n",
      "RangeIndex: 434151 entries, 0 to 434150\n",
      "Data columns (total 10 columns):\n",
      "Traffic Report ID    434151 non-null object\n",
      "Published Date       434151 non-null object\n",
      "Issue Reported       434151 non-null object\n",
      "Location             433869 non-null object\n",
      "Latitude             434072 non-null float64\n",
      "Longitude            434072 non-null float64\n",
      "Address              434151 non-null object\n",
      "Status               432458 non-null object\n",
      "Status Date          434151 non-null object\n",
      "Agency               77567 non-null object\n",
      "dtypes: float64(2), object(8)\n",
      "memory usage: 33.1+ MB\n"
     ]
    }
   ],
   "source": [
    "df.info()"
   ]
  },
  {
   "cell_type": "markdown",
   "metadata": {},
   "source": [
    "## Feature Engineering"
   ]
  },
  {
   "cell_type": "markdown",
   "metadata": {},
   "source": [
    "### Cleaning"
   ]
  },
  {
   "cell_type": "code",
   "execution_count": 5,
   "metadata": {},
   "outputs": [],
   "source": [
    "df = df[df['Longitude'] != 0]\n",
    "df = df[df['Latitude'] != 0]\n",
    "df = df[df['Latitude'] <= 35]"
   ]
  },
  {
   "cell_type": "markdown",
   "metadata": {},
   "source": [
    "### Feature Creation"
   ]
  },
  {
   "cell_type": "code",
   "execution_count": 6,
   "metadata": {},
   "outputs": [],
   "source": [
    "df['Date'] = pd.to_datetime(df['Published Date'])"
   ]
  },
  {
   "cell_type": "code",
   "execution_count": 7,
   "metadata": {},
   "outputs": [
    {
     "name": "stdout",
     "output_type": "stream",
     "text": [
      "Local      290619\n",
      "Highway    142433\n",
      "Name: road_type, dtype: int64\n"
     ]
    }
   ],
   "source": [
    "# Highway keywords\n",
    "highway_keywords = [\"I-35\", \"IH\", \"US\", \"Mopac\", \"Loop 1\", \"SH\", \"RESEARCH BLVD\", \"BASTROP HWY\", \"BEN WHITE\"]\n",
    "\n",
    "# Classify using simple filter\n",
    "df['road_type'] = df['Address'].fillna(\"\").str.upper().apply(\n",
    "    lambda x: \"Highway\" if any(k.upper() in x for k in highway_keywords) else \"Local\"\n",
    ")\n",
    "\n",
    "print(df['road_type'].value_counts())"
   ]
  },
  {
   "cell_type": "markdown",
   "metadata": {},
   "source": [
    "## Show Result"
   ]
  },
  {
   "cell_type": "code",
   "execution_count": 8,
   "metadata": {},
   "outputs": [
    {
     "data": {
      "text/html": [
       "<div>\n",
       "<style scoped>\n",
       "    .dataframe tbody tr th:only-of-type {\n",
       "        vertical-align: middle;\n",
       "    }\n",
       "\n",
       "    .dataframe tbody tr th {\n",
       "        vertical-align: top;\n",
       "    }\n",
       "\n",
       "    .dataframe thead th {\n",
       "        text-align: right;\n",
       "    }\n",
       "</style>\n",
       "<table border=\"1\" class=\"dataframe\">\n",
       "  <thead>\n",
       "    <tr style=\"text-align: right;\">\n",
       "      <th></th>\n",
       "      <th>count</th>\n",
       "      <th>mean</th>\n",
       "      <th>std</th>\n",
       "      <th>min</th>\n",
       "      <th>25%</th>\n",
       "      <th>50%</th>\n",
       "      <th>75%</th>\n",
       "      <th>max</th>\n",
       "    </tr>\n",
       "  </thead>\n",
       "  <tbody>\n",
       "    <tr>\n",
       "      <th>Latitude</th>\n",
       "      <td>433052.0</td>\n",
       "      <td>30.301428</td>\n",
       "      <td>0.095707</td>\n",
       "      <td>30.000064</td>\n",
       "      <td>30.231034</td>\n",
       "      <td>30.295088</td>\n",
       "      <td>30.374668</td>\n",
       "      <td>31.077333</td>\n",
       "    </tr>\n",
       "    <tr>\n",
       "      <th>Longitude</th>\n",
       "      <td>433052.0</td>\n",
       "      <td>-97.730030</td>\n",
       "      <td>0.090787</td>\n",
       "      <td>-98.816154</td>\n",
       "      <td>-97.776315</td>\n",
       "      <td>-97.731784</td>\n",
       "      <td>-97.681224</td>\n",
       "      <td>-97.108986</td>\n",
       "    </tr>\n",
       "  </tbody>\n",
       "</table>\n",
       "</div>"
      ],
      "text/plain": [
       "              count       mean       std        min        25%        50%  \\\n",
       "Latitude   433052.0  30.301428  0.095707  30.000064  30.231034  30.295088   \n",
       "Longitude  433052.0 -97.730030  0.090787 -98.816154 -97.776315 -97.731784   \n",
       "\n",
       "                 75%        max  \n",
       "Latitude   30.374668  31.077333  \n",
       "Longitude -97.681224 -97.108986  "
      ]
     },
     "execution_count": 8,
     "metadata": {},
     "output_type": "execute_result"
    }
   ],
   "source": [
    "df.describe().T"
   ]
  },
  {
   "cell_type": "code",
   "execution_count": 9,
   "metadata": {},
   "outputs": [],
   "source": [
    "# colors = ['red', 'cyan', 'green', 'blue', 'yellow']\n",
    "# top_issues = df['Issue Reported'].value_counts().head(5).index.tolist()\n",
    "# df_top_issues = df[df['Issue Reported'].isin(top_issues)].copy()\n",
    "\n",
    "# issue_colors = {\n",
    "#     top_issues[0]: colors[0],\n",
    "#     top_issues[1]: colors[1],\n",
    "#     top_issues[2]: colors[2],\n",
    "#     top_issues[3]: colors[3],\n",
    "#     top_issues[4]: colors[4],\n",
    "# }\n",
    "# df_top_issues['Color'] = df_top_issues['Issue Reported'].apply(lambda x: issue_colors[x] )\n",
    "# plt.figure(figsize=(10,6))\n",
    "# plt.scatter(df_top_issues['Longitude'], df_top_issues['Latitude'], c=df_top_issues['Color'], cmap='vidris', alpha=0.2, s=.01)\n",
    "# plt.title('Traffic Incidents in Austin')\n",
    "# plt.xlabel('Longitude')\n",
    "# plt.ylabel('Latitude')\n",
    "# plt.xlim((-98.20,-97.30))\n",
    "# plt.ylim((30., 30.6))\n",
    "# legend_handles = [mpatches.Patch(color=color, label=issue) for issue, color in issue_colors.items()]\n",
    "# plt.legend(handles=legend_handles, title=\"Issue Reported\", loc='lower left')\n",
    "# plt.grid(True)\n",
    "# plt.show()"
   ]
  },
  {
   "cell_type": "markdown",
   "metadata": {},
   "source": [
    "## Scikit Learn Time"
   ]
  },
  {
   "cell_type": "code",
   "execution_count": 10,
   "metadata": {},
   "outputs": [
    {
     "name": "stdout",
     "output_type": "stream",
     "text": [
      "              precision    recall  f1-score   support\n",
      "\n",
      "           0       1.00      1.00      1.00     58051\n",
      "           1       1.00      0.99      1.00     28560\n",
      "\n",
      "    accuracy                           1.00     86611\n",
      "   macro avg       1.00      1.00      1.00     86611\n",
      "weighted avg       1.00      1.00      1.00     86611\n",
      "\n"
     ]
    }
   ],
   "source": [
    "# Features and labels\n",
    "X = df['Address'].fillna(\"\")\n",
    "y = (df['road_type'] == \"Highway\").astype(int)\n",
    "\n",
    "# Text to numeric features\n",
    "vectorizer = CountVectorizer()\n",
    "X_vec = vectorizer.fit_transform(X)\n",
    "\n",
    "# Train/test split\n",
    "X_train, X_test, y_train, y_test = train_test_split(X_vec, y, test_size=0.2, random_state=42)\n",
    "\n",
    "# Train Logistic Regression\n",
    "clf = LogisticRegression(max_iter=200)\n",
    "clf.fit(X_train, y_train)\n",
    "\n",
    "# Evaluate\n",
    "y_pred = clf.predict(X_test)\n",
    "print(classification_report(y_test, y_pred))"
   ]
  },
  {
   "cell_type": "code",
   "execution_count": 14,
   "metadata": {},
   "outputs": [
    {
     "data": {
      "text/plain": [
       "[8288, 3184]"
      ]
     },
     "execution_count": 14,
     "metadata": {},
     "output_type": "execute_result"
    }
   ],
   "source": [
    "# Features and labels\n",
    "subdataset = df[df['Issue Reported'] == \"COLLISION WITH INJURY\"] \n",
    "subdataset[\"road_type\"].value_counts().tolist()"
   ]
  },
  {
   "cell_type": "code",
   "execution_count": 25,
   "metadata": {},
   "outputs": [
    {
     "name": "stdout",
     "output_type": "stream",
     "text": [
      "Stalled Vehicle             | Highway: 0.541 | Local: 0.459\n",
      "Crash Urgent                | Highway: 0.690 | Local: 0.310\n",
      "LOOSE LIVESTOCK             | Highway: 0.823 | Local: 0.177\n",
      "TRFC HAZD/ DEBRIS           | Highway: 0.649 | Local: 0.351\n",
      "Traffic Hazard              | Highway: 0.613 | Local: 0.387\n",
      "COLLISION                   | Highway: 0.683 | Local: 0.317\n",
      "COLLISION/PRIVATE PROPERTY  | Highway: 0.803 | Local: 0.197\n",
      "Crash Service               | Highway: 0.733 | Local: 0.267\n",
      "COLLISION WITH INJURY       | Highway: 0.722 | Local: 0.278\n",
      "COLLISN/ LVNG SCN           | Highway: 0.721 | Local: 0.279\n",
      "zSTALLED VEHICLE            | Highway: 0.518 | Local: 0.482\n",
      "BOAT ACCIDENT               | Highway: 0.985 | Local: 0.015\n",
      "VEHICLE FIRE                | Highway: 0.654 | Local: 0.346\n",
      "BLOCKED DRIV/ HWY           | Highway: 0.921 | Local: 0.079\n",
      "FLEET ACC/ INJURY           | Highway: 0.733 | Local: 0.267\n",
      "TRAFFIC FATALITY            | Highway: 0.546 | Local: 0.454\n",
      "AUTO/ PED                   | Highway: 0.810 | Local: 0.190\n",
      "Traffic Impediment          | Highway: 0.862 | Local: 0.138\n",
      "N / HZRD TRFC VIOL          | Highway: 0.846 | Local: 0.154\n",
      "ICY ROADWAY                 | Highway: 0.680 | Local: 0.320\n",
      "FLEET ACC/ FATAL            | Highway: 0.667 | Local: 0.333\n",
      "OBSTRUCT HWY                | Highway: 0.667 | Local: 0.333\n",
      "HIGH WATER                  | Highway: 0.833 | Local: 0.167\n"
     ]
    }
   ],
   "source": [
    "def percentage(df, x_label, y_label):\n",
    "    labels = df[y_label].unique()\n",
    "    for x in df[x_label].unique().tolist():\n",
    "        subdataset = df[df[x_label] == x]\n",
    "        totals = subdataset[y_label].value_counts().tolist()\n",
    "        results = list(map(lambda x: x/sum(totals) ,totals))\n",
    "        if len(totals) != 2:\n",
    "            continue\n",
    "        print(f\"{x:27} | {labels[0]:7}: {results[0]:.3f} | {labels[1]:5}: {results[1]:.3f}\")\n",
    "        \n",
    "percentage(df, \"Issue Reported\", \"road_type\")"
   ]
  },
  {
   "cell_type": "code",
   "execution_count": null,
   "metadata": {},
   "outputs": [],
   "source": [
    "percentage(df, \"\", \"road_type\")"
   ]
  }
 ],
 "metadata": {
  "kernelspec": {
   "display_name": "Python 3",
   "language": "python",
   "name": "python3"
  },
  "language_info": {
   "codemirror_mode": {
    "name": "ipython",
    "version": 3
   },
   "file_extension": ".py",
   "mimetype": "text/x-python",
   "name": "python",
   "nbconvert_exporter": "python",
   "pygments_lexer": "ipython3",
   "version": "3.7.0"
  }
 },
 "nbformat": 4,
 "nbformat_minor": 2
}
